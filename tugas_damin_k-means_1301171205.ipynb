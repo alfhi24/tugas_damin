{
 "cells": [
  {
   "cell_type": "code",
   "execution_count": 1,
   "metadata": {},
   "outputs": [],
   "source": [
    "import pandas as pd\n",
    "import numpy as np\n",
    "import matplotlib.pyplot as plt\n",
    "from sklearn.cluster import KMeans"
   ]
  },
  {
   "cell_type": "markdown",
   "metadata": {},
   "source": [
    "# Inisiasi dataset"
   ]
  },
  {
   "cell_type": "code",
   "execution_count": 2,
   "metadata": {},
   "outputs": [
    {
     "data": {
      "image/png": "[encoded data removed]",
      "text/plain": [
       "<Figure size 432x288 with 1 Axes>"
      ]
     },
     "metadata": {
      "needs_background": "light"
     },
     "output_type": "display_data"
    }
   ],
   "source": [
    "df = pd.DataFrame({\n",
    "    'x' : [10, 12, 15, 20, 45, 33, 21, 55, 32, 12, 96, 55, 68, 98, 49, 60, 44, 50, 9, 85, 4, 63, 3, 18, 40, 54, 3, 76, 12, 42],\n",
    "    'y' : [4, 25, 66, 23, 24, 53, 67, 54, 78, 45, 65, 77, 23, 4, 15, 23, 12, 64, 7, 5, 4, 55, 20, 30, 44, 14, 25, 26, 48, 63]\n",
    "})\n",
    "\n",
    "x = df[\"x\"]\n",
    "y = df[\"y\"]\n",
    "plt.plot(x,y,\"ko\")\n",
    "plt.show()"
   ]
  },
  {
   "cell_type": "markdown",
   "metadata": {},
   "source": [
    "# Bangkitkan titik random sebagai centroid awal\n",
    "Memilih 'k' titik acak dari dataset sebagai centroid awal"
   ]
  },
  {
   "cell_type": "code",
   "execution_count": 3,
   "metadata": {},
   "outputs": [],
   "source": [
    "def first_centroid(k):    \n",
    "    cent_x = []\n",
    "    cent_y = []\n",
    "    for i in range(k) :\n",
    "        r = (np.random.randint(len(x)))\n",
    "        cent_x.append(x[r])\n",
    "        cent_y.append(y[r])\n",
    "    return(cent_x, cent_y)"
   ]
  },
  {
   "cell_type": "markdown",
   "metadata": {},
   "source": [
    "# Menghitung distance setiap data terhadap centroid\n",
    "Perhitungan distance menggunakan euclidean distance"
   ]
  },
  {
   "cell_type": "code",
   "execution_count": 4,
   "metadata": {},
   "outputs": [],
   "source": [
    "def distance(pointx,pointy):\n",
    "    distances = []\n",
    "    for i in range(len(x)) :\n",
    "        dist = []\n",
    "        for j in range(k) :\n",
    "            euc = np.sqrt((pointx[j]-x[i])**2 + (pointy[j]-y[i])**2)\n",
    "            dist.append(euc)\n",
    "        distances.append(dist)\n",
    "    return distances"
   ]
  },
  {
   "cell_type": "markdown",
   "metadata": {},
   "source": [
    "# Memetakan setiap titik ke cluster\n",
    "Setelah mendapatkan distance setiap titik ke centroid, pilih jarak paling minimal (berdasarkan indexnya). nilai 0 artinya titik paling dekat dengan centroid[0], nilai 1 artinya titik paling dekat dengan centroid[1], dst"
   ]
  },
  {
   "cell_type": "code",
   "execution_count": 5,
   "metadata": {},
   "outputs": [],
   "source": [
    "def minimum(distance):\n",
    "    m = []\n",
    "    for i in range(len(x)):\n",
    "        m.append(distance[i].index(min(distance[i])))\n",
    "    return m"
   ]
  },
  {
   "cell_type": "markdown",
   "metadata": {},
   "source": [
    "# Membangkitkan centroid baru\n",
    "Menggunakan teknik average"
   ]
  },
  {
   "cell_type": "code",
   "execution_count": 6,
   "metadata": {},
   "outputs": [],
   "source": [
    "def new_centroid(m):\n",
    "    cent_x,cent_y = [],[]\n",
    "    for i in range(k):\n",
    "        sum_x,sum_y,count = 0,0,0\n",
    "        for j in range(len(x)):\n",
    "            if (m[j] == i):\n",
    "                sum_x += x[j]\n",
    "                sum_y += y[j]\n",
    "                count += 1\n",
    "        if (count != 0) :\n",
    "            cent_x.append((sum_x/count))\n",
    "            cent_y.append((sum_y/count))\n",
    "        if (count == 0):\n",
    "            cent_x.append(0)\n",
    "            cent_y.append(0)\n",
    "    return cent_x, cent_y"
   ]
  },
  {
   "cell_type": "markdown",
   "metadata": {},
   "source": [
    "# Driver program\n",
    "Melakukan perulangan hingga centroid baru sama dengan centroid sebelumnya"
   ]
  },
  {
   "cell_type": "code",
   "execution_count": 7,
   "metadata": {},
   "outputs": [
    {
     "data": {
      "image/png": "[encoded data removed]",
      "text/plain": [
       "<Figure size 432x288 with 1 Axes>"
      ]
     },
     "metadata": {
      "needs_background": "light"
     },
     "output_type": "display_data"
    }
   ],
   "source": [
    "k = 3\n",
    "cent_x,cent_y = first_centroid(k)[0], first_centroid(k)[1]\n",
    "prev_cent_x,prev_cent_y = [],[]\n",
    "while ((prev_cent_x != cent_x) or (prev_cent_y != cent_y)) :\n",
    "    prev_cent_x = cent_x\n",
    "    prev_cent_y = cent_y\n",
    "    distances = distance(cent_x,cent_y)\n",
    "    m = minimum(distances)\n",
    "    centroid = new_centroid(m)\n",
    "    cent_x = centroid[0]\n",
    "    cent_y = centroid[1]\n",
    "    \n",
    "result = [[],[],[]]\n",
    "for j in range(k):    \n",
    "    plt.plot(cent_x, cent_y, 'k>')\n",
    "    for i in range(30):\n",
    "        if (m[i] == 0) :\n",
    "            plt.plot(x[i], y[i], 'co')    \n",
    "            result[j].append((x[i], y[i], j))\n",
    "        elif (m[i] == 1) :\n",
    "            plt.plot(x[i], y[i], 'mo')    \n",
    "            result[j].append((x[i], y[i], j))\n",
    "        elif(m[i] == 2):\n",
    "            plt.plot(x[i], y[i], 'yo')    \n",
    "            result[j].append((x[i], y[i], j))\n",
    "plt.show()"
   ]
  },
  {
   "cell_type": "markdown",
   "metadata": {},
   "source": [
    "# Experiment dengan menggunakan library"
   ]
  },
  {
   "cell_type": "code",
   "execution_count": 8,
   "metadata": {},
   "outputs": [
    {
     "data": {
      "image/png": "[encoded data removed]",
      "text/plain": [
       "<Figure size 432x288 with 1 Axes>"
      ]
     },
     "metadata": {
      "needs_background": "light"
     },
     "output_type": "display_data"
    }
   ],
   "source": [
    "n_clusters = 3\n",
    "km = KMeans(n_clusters=n_clusters, random_state=0).fit(df)\n",
    "for i in range(30):\n",
    "    if(km.labels_[i] == 0):\n",
    "        plt.plot(df['x'][i], df['y'][i], 'co')\n",
    "    if(km.labels_[i] == 1):\n",
    "        plt.plot(df['x'][i], df['y'][i], 'mo')\n",
    "    if(km.labels_[i] == 2):\n",
    "        plt.plot(df['x'][i], df['y'][i], 'yo')\n",
    "\n",
    "for i in range(3):\n",
    "    plt.plot(km.cluster_centers_[i][0], km.cluster_centers_[i][1], 'k>')\n",
    "        \n",
    "plt.show()"
   ]
  }
 ],
 "metadata": {
  "kernelspec": {
   "display_name": "Python 3",
   "language": "python",
   "name": "python3"
  },
  "language_info": {
   "codemirror_mode": {
    "name": "ipython",
    "version": 3
   },
   "file_extension": ".py",
   "mimetype": "text/x-python",
   "name": "python",
   "nbconvert_exporter": "python",
   "pygments_lexer": "ipython3",
   "version": "3.7.1"
  }
 },
 "nbformat": 4,
 "nbformat_minor": 2
}